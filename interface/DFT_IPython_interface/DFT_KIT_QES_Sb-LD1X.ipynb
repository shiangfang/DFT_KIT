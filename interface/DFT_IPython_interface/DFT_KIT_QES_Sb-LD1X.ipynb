{
 "metadata": {
  "name": ""
 },
 "nbformat": 3,
 "nbformat_minor": 0,
 "worksheets": [
  {
   "cells": [
    {
     "cell_type": "code",
     "collapsed": false,
     "input": [
      "%matplotlib inline\n",
      "import numpy as np\n",
      "import scipy as sp\n",
      "import matplotlib.pyplot as plt\n",
      "import pandas as pd\n",
      "import pickle\n",
      "import sys\n",
      "import os\n",
      "\n",
      "import xml.etree.ElementTree as ET\n",
      "from DFT_KIT.core import job\n",
      "from DFT_KIT.calculator import QESPRESSO\n",
      "from DFT_KIT.core import physics\n",
      "\n"
     ],
     "language": "python",
     "metadata": {},
     "outputs": [],
     "prompt_number": 1
    },
    {
     "cell_type": "code",
     "collapsed": false,
     "input": [
      "\n",
      "os.chdir('/Users/shiangfang/Shiang DrobBox/Dropbox/Physics Research/Tim Kaxiras Group/temp/new_biband/')\n",
      "\n",
      "dft_job=job.job(False,False,False)\n",
      "dft_calc=QESPRESSO.calculator_QESPRESSO(True,dft_job,None,None)\n",
      "dft_job.sys_info['qes_prefix']='sb_prefix'\n",
      "dft_calc.post_process()\n",
      "\n",
      "\n",
      "\n"
     ],
     "language": "python",
     "metadata": {},
     "outputs": [
      {
       "output_type": "stream",
       "stream": "stdout",
       "text": [
        "DFT_KIT(ERROR):QESPRESSO: pp-no out file\n"
       ]
      }
     ],
     "prompt_number": 2
    },
    {
     "cell_type": "code",
     "collapsed": false,
     "input": [
      "plt.plot(physics.hartree*np.transpose(dft_calc.qes_vars['eigenvalues']))\n",
      "plt.ylim([6,7])\n",
      "#plt.ylim([-90,-50])\n",
      "\n"
     ],
     "language": "python",
     "metadata": {},
     "outputs": [
      {
       "metadata": {},
       "output_type": "pyout",
       "prompt_number": 4,
       "text": [
        "(6, 7)"
       ]
      },
      {
       "metadata": {},
       "output_type": "display_data",
       "png": "[encoded data removed]",
       "text": [
        "<matplotlib.figure.Figure at 0x10791c4d0>"
       ]
      }
     ],
     "prompt_number": 4
    },
    {
     "cell_type": "code",
     "collapsed": false,
     "input": [],
     "language": "python",
     "metadata": {},
     "outputs": [],
     "prompt_number": 18
    },
    {
     "cell_type": "code",
     "collapsed": false,
     "input": [],
     "language": "python",
     "metadata": {},
     "outputs": []
    }
   ],
   "metadata": {}
  }
 ]
}