{
 "metadata": {
  "name": ""
 },
 "nbformat": 3,
 "nbformat_minor": 0,
 "worksheets": [
  {
   "cells": [
    {
     "cell_type": "code",
     "collapsed": false,
     "input": [
      "%matplotlib inline\n",
      "import numpy as np\n",
      "import scipy as sp\n",
      "import matplotlib.pyplot as plt\n",
      "import pandas as pd\n",
      "import pickle\n",
      "import sys\n",
      "import os\n",
      "\n",
      "import xml.etree.ElementTree as ET\n",
      "\n",
      "#sys.path.append('/Users/shiangfang/Shiang DrobBox/Dropbox/Physics Research/Tim Kaxiras Group/DFT VASP/DFT_tools')\n"
     ],
     "language": "python",
     "metadata": {},
     "outputs": [],
     "prompt_number": 1
    },
    {
     "cell_type": "code",
     "collapsed": false,
     "input": [
      "name_prefix='../../temp/bi_convergence/'\n",
      "\n",
      "pickle.load(open(name_prefix+'ecutoff_conv','rb'))\n",
      "\n",
      "\n",
      "\n",
      "\n"
     ],
     "language": "python",
     "metadata": {},
     "outputs": []
    }
   ],
   "metadata": {}
  }
 ]
}