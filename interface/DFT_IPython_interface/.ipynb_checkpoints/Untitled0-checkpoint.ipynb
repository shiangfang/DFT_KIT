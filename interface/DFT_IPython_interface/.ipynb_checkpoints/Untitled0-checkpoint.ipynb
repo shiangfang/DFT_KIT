{
 "metadata": {
  "name": ""
 },
 "nbformat": 3,
 "nbformat_minor": 0,
 "worksheets": [
  {
   "cells": [
    {
     "cell_type": "code",
     "collapsed": false,
     "input": [
      "import numpy as np\n",
      "import scipy\n",
      "\n",
      "from numpy import linspace,exp\n",
      "import matplotlib.pyplot as plt\n",
      "from numpy.random import randn\n",
      "from scipy.interpolate import UnivariateSpline\n",
      "from scipy.interpolate import InterpolatedUnivariateSpline\n"
     ],
     "language": "python",
     "metadata": {},
     "outputs": [],
     "prompt_number": 4
    },
    {
     "cell_type": "code",
     "collapsed": false,
     "input": [
      "\n",
      "x = linspace(-3, 3, 100)\n",
      "y = exp(-x**2) + randn(100)/10\n",
      "s = UnivariateSpline(x, y, s=1)\n",
      "xs = linspace(-3, 3, 1000)\n",
      "ys = s(xs)\n",
      "plt.plot(x, y, '.-')\n",
      "plt.plot(xs, ys)\n",
      "plt.show()\n",
      "\n",
      "\n",
      "\n"
     ],
     "language": "python",
     "metadata": {},
     "outputs": [],
     "prompt_number": 3
    },
    {
     "cell_type": "code",
     "collapsed": false,
     "input": [
      "\n",
      "x = linspace(-3, 3, 100)\n",
      "y = exp(-x**2) + randn(100)/10\n",
      "s = InterpolatedUnivariateSpline(x, y)\n",
      "xs = linspace(-3.1, 3, 1000)\n",
      "ys = s(xs)\n",
      "plt.plot(x, y, '.-')\n",
      "plt.plot(xs, ys)\n",
      "plt.show()\n",
      "\n",
      "\n"
     ],
     "language": "python",
     "metadata": {},
     "outputs": [],
     "prompt_number": 5
    },
    {
     "cell_type": "code",
     "collapsed": false,
     "input": [],
     "language": "python",
     "metadata": {},
     "outputs": [],
     "prompt_number": 1
    },
    {
     "cell_type": "code",
     "collapsed": false,
     "input": [],
     "language": "python",
     "metadata": {},
     "outputs": [],
     "prompt_number": 1
    },
    {
     "cell_type": "code",
     "collapsed": false,
     "input": [],
     "language": "python",
     "metadata": {},
     "outputs": [],
     "prompt_number": 1
    },
    {
     "cell_type": "code",
     "collapsed": false,
     "input": [],
     "language": "python",
     "metadata": {},
     "outputs": [],
     "prompt_number": 1
    },
    {
     "cell_type": "code",
     "collapsed": false,
     "input": [],
     "language": "python",
     "metadata": {},
     "outputs": []
    }
   ],
   "metadata": {}
  }
 ]
}